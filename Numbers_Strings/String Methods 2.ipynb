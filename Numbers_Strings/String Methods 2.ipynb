{
 "cells": [
  {
   "cell_type": "code",
   "execution_count": 1,
   "metadata": {},
   "outputs": [
    {
     "name": "stdout",
     "output_type": "stream",
     "text": [
      "IP address 208.94.117.90 accessed /bears/koala at 16:20\n"
     ]
    }
   ],
   "source": [
    "user_ip = \"208.94.117.90\"\n",
    "url = \"/bears/koala\"\n",
    "now = \"16:20\"\n",
    "log_message = \"IP address {} accessed {} at {}\".format(user_ip, url, now)\n",
    "print(log_message)"
   ]
  },
  {
   "cell_type": "code",
   "execution_count": 3,
   "metadata": {},
   "outputs": [
    {
     "name": "stdout",
     "output_type": "stream",
     "text": [
      "Today's forecast for Seoul: The temperature will range from 9 to 18 degrees Celsius. Conditions will be light rain.\n"
     ]
    }
   ],
   "source": [
    "city = \"Seoul\"\n",
    "high_temperature = 18\n",
    "low_temperature = 9\n",
    "temperature_unit = \"degrees Celsius\"\n",
    "weather_conditions = \"light rain\"\n",
    "\n",
    "#todo rewrite this line to use the format method rather than string concatenation\n",
    "alert = \"Today's forecast for \" + city + \": The temperature will range from \" + str(low_temperature) + \" to \" + str(high_temperature) + \" \" + temperature_unit + \". Conditions will be \" + weather_conditions + \".\"\n",
    "alert = \"Today's forecast for {}: The temperature will range from {} to {} {}. Conditions will be {}.\".format(city, low_temperature, high_temperature, temperature_unit, weather_conditions)\n",
    "# print the alert\n",
    "print(alert)"
   ]
  },
  {
   "cell_type": "code",
   "execution_count": null,
   "metadata": {
    "collapsed": true
   },
   "outputs": [],
   "source": []
  }
 ],
 "metadata": {
  "kernelspec": {
   "display_name": "Python 3",
   "language": "python",
   "name": "python3"
  },
  "language_info": {
   "codemirror_mode": {
    "name": "ipython",
    "version": 3
   },
   "file_extension": ".py",
   "mimetype": "text/x-python",
   "name": "python",
   "nbconvert_exporter": "python",
   "pygments_lexer": "ipython3",
   "version": "3.6.1"
  }
 },
 "nbformat": 4,
 "nbformat_minor": 2
}
